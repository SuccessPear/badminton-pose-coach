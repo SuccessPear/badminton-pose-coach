{
 "cells": [
  {
   "cell_type": "code",
   "id": "initial_id",
   "metadata": {
    "collapsed": true,
    "ExecuteTime": {
     "end_time": "2025-09-22T08:06:17.979813Z",
     "start_time": "2025-09-22T08:06:17.968753Z"
    }
   },
   "source": [
    "import os\n",
    "os.chdir(\"../\")\n",
    "%pwd"
   ],
   "outputs": [
    {
     "data": {
      "text/plain": [
       "'C:\\\\Users\\\\Legion\\\\OneDrive\\\\Desktop\\\\Paris-Saclay\\\\Learning\\\\AI\\\\badminton-pose-coach'"
      ]
     },
     "execution_count": 2,
     "metadata": {},
     "output_type": "execute_result"
    }
   ],
   "execution_count": 2
  },
  {
   "metadata": {
    "ExecuteTime": {
     "end_time": "2025-09-22T08:06:18.013717Z",
     "start_time": "2025-09-22T08:06:18.007750Z"
    }
   },
   "cell_type": "code",
   "source": [
    "from dataclasses import dataclass\n",
    "from pathlib import Path\n",
    "\n",
    "\n",
    "@dataclass(frozen=True)\n",
    "class TrainingConfig:\n",
    "    root_dir: Path\n",
    "    trained_model_path: Path\n",
    "    updated_base_model_path: Path\n",
    "    training_data: Path\n",
    "    params_epochs: int\n",
    "    params_batch_size: int\n"
   ],
   "id": "a080fa7ffea32471",
   "outputs": [],
   "execution_count": 3
  },
  {
   "metadata": {
    "ExecuteTime": {
     "end_time": "2025-09-22T08:06:21.563608Z",
     "start_time": "2025-09-22T08:06:18.021737Z"
    }
   },
   "cell_type": "code",
   "source": [
    "from badmintonPoseCoach.constants import *\n",
    "from badmintonPoseCoach.utils.common import read_yaml, create_directories"
   ],
   "id": "ce9b6666f5075483",
   "outputs": [],
   "execution_count": 4
  },
  {
   "metadata": {
    "ExecuteTime": {
     "end_time": "2025-09-22T08:06:21.582368Z",
     "start_time": "2025-09-22T08:06:21.573811Z"
    }
   },
   "cell_type": "code",
   "source": [
    "class ConfigurationManager:\n",
    "    def __init__(\n",
    "        self,\n",
    "        config_filepath = CONFIG_FILE_PATH,\n",
    "        params_filepath = PARAMS_FILE_PATH):\n",
    "\n",
    "        self.config = read_yaml(config_filepath)\n",
    "        self.params = read_yaml(params_filepath)\n",
    "\n",
    "        create_directories([self.config.artifacts_root])\n",
    "\n",
    "    def get_training_config(self) -> TrainingConfig:\n",
    "        prepare_base_model_config = self.config.prepare_base_model\n",
    "        training_config = self.config.training\n",
    "        params = self.params.training\n",
    "\n",
    "        create_directories([training_config.root_dir])\n",
    "\n",
    "        training_config = TrainingConfig(\n",
    "            root_dir=Path(training_config.root_dir),\n",
    "            trained_model_path = Path(training_config.trained_model_path),\n",
    "            updated_base_model_path=Path(prepare_base_model_config.updated_base_model_path),\n",
    "            training_data = Path(training_config.training_data),\n",
    "            params_epochs = params.epochs,\n",
    "            params_batch_size = params.batch_size,\n",
    "        )\n",
    "        return training_config"
   ],
   "id": "4f069c63b2241538",
   "outputs": [],
   "execution_count": 5
  },
  {
   "metadata": {
    "ExecuteTime": {
     "end_time": "2025-09-22T08:06:22.373462Z",
     "start_time": "2025-09-22T08:06:21.592630Z"
    }
   },
   "cell_type": "code",
   "source": [
    "import os\n",
    "from pathlib import Path\n",
    "import torch.nn as nn\n",
    "from torch.utils.data import Dataset, DataLoader\n",
    "import torch\n",
    "import numpy as np\n",
    "import pandas as pd\n",
    "import json"
   ],
   "id": "1b48c5e52b99d1fe",
   "outputs": [],
   "execution_count": 6
  },
  {
   "metadata": {
    "ExecuteTime": {
     "end_time": "2025-09-22T09:12:14.413168Z",
     "start_time": "2025-09-22T09:12:14.283512Z"
    }
   },
   "cell_type": "code",
   "source": [
    "class BadmintonPoseDataset(Dataset):\n",
    "    \"\"\"\n",
    "    Dataset class that load json file and output a dataframe of keypoints\n",
    "    \"\"\"\n",
    "    def __init__(self,\n",
    "                 config: TrainingConfig,\n",
    "                 seed: int = 42,\n",
    "                 split: str = 'train',\n",
    "                 split_ratio: tuple[float, float, float] = (0.8, 0.1, 0.1),\n",
    "                 frame_format: str = 'auto',\n",
    "                 num_joints: int = 17,):\n",
    "        self.training_data = Path(config.training_data)\n",
    "        self.frame_format = frame_format\n",
    "        self.num_joints = num_joints\n",
    "\n",
    "        class_dirs = sorted([d for d in self.training_data.iterdir() if d.is_dir()])\n",
    "        self.class_names = [d.name for d in class_dirs]\n",
    "\n",
    "        # list all files in data folder\n",
    "        self.file_list = []\n",
    "        for ci, d in enumerate(class_dirs):\n",
    "            for p in sorted(d.rglob(\"*.json\")):\n",
    "                self.file_list.append((p, ci))\n",
    "\n",
    "        # Train/val/test split\n",
    "        g = torch.Generator().manual_seed(seed)\n",
    "        per_class_idx = [[] for _ in self.class_names]\n",
    "        for idx, (_p, ci) in enumerate(self.file_list):\n",
    "            per_class_idx[ci].append(idx)\n",
    "        for lst in per_class_idx:\n",
    "            perm = torch.randperm(len(lst), generator=g).tolist()\n",
    "            lst = [lst[i] for i in perm]\n",
    "\n",
    "        def take_splits(idxs: list[int]) -> tuple[list[int], list[int], list[int]]:\n",
    "            n = len(idxs)\n",
    "            n_train = int(n * split_ratio[0])\n",
    "            n_val = int(n * split_ratio[1])\n",
    "            return idxs[:n_train], idxs[n_train:n_train+n_val], idxs[n_train+n_val:]\n",
    "\n",
    "        split_map = {\"train\": 0, \"val\": 1, \"valid\": 1, \"validation\": 1, \"test\": 2}\n",
    "        which = split_map[split]\n",
    "\n",
    "        selected: list[int] = []\n",
    "        for lst in per_class_idx:\n",
    "            tr, va, te = take_splits(lst)\n",
    "            selected.extend([tr, va, te][which])\n",
    "        selected = sorted(selected)\n",
    "\n",
    "        self.files: list[Path] = [self.file_list[i][0] for i in selected]\n",
    "        self.labels: list[int] = [self.file_list[i][1] for i in selected]\n",
    "\n",
    "\n",
    "\n",
    "    def __len__(self):\n",
    "        return len(self.files)\n",
    "\n",
    "    def __getitem__(self, index: int) -> tuple[torch.FloatTensor, int]:\n",
    "        path = self.files[index]\n",
    "        label = self.labels[index]\n",
    "        with open(path, \"r\", encoding=\"utf-8\") as f:\n",
    "            obj = json.load(f)\n",
    "\n",
    "        seq = obj.get(\"seq\")\n",
    "        if seq is None:\n",
    "            raise ValueError(f\"Missing 'seq' in {path}\")\n",
    "\n",
    "        pose = self._to_tensor_TxKx3(seq)\n",
    "\n",
    "        return pose, label\n",
    "\n",
    "    def _to_tensor_TxKx3(self, seq: any) -> torch.tensor:\n",
    "        if self.frame_format in (\"auto\", \"Kx3\") and isinstance(seq, list) and len(seq) > 0 and isinstance(seq[0], list):\n",
    "            sample = seq[0]\n",
    "            if len(sample) > 0 and isinstance(sample[0], list):\n",
    "                return torch.tensor(seq, dtype=torch.float32)\n",
    "            else:\n",
    "                if self.frame_format == \"flat\" and self.num_joints is not None:\n",
    "                    K = int(self.num_joints)\n",
    "                else:\n",
    "                    flen = len(sample)\n",
    "                    if flen % 3 != 0:\n",
    "                        raise ValueError(\"Cannot infer num_keypoints\")\n",
    "                    K = flen // 3\n",
    "                frames_Kx3 = []\n",
    "                for fr in seq:\n",
    "                    triplets = [fr[i:i+3] for i in range(0, len(fr), 3)]\n",
    "                    frames_Kx3.append(triplets)\n",
    "                return torch.tensor(frames_Kx3, dtype=torch.float32)\n",
    "\n",
    "        if self.frame_format in (\"auto\", \"flat\") and isinstance(seq, list) and seq and isinstance(seq[0], (int,float)):\n",
    "            if self.num_joints is None:\n",
    "                raise ValueError(\"Need num_keypoints for flat seq\")\n",
    "            K = int(self.num_joints)\n",
    "            T = len(seq) // (K*3)\n",
    "            return torch.tensor(seq, dtype=torch.float32).view(T, K, 3)\n",
    "\n",
    "        raise ValueError(\"Unsupported 'seq' structure\")\n",
    "\n",
    "config = ConfigurationManager()\n",
    "train_config = config.get_training_config()\n",
    "train_data = CustomDataset(train_config, split='val')\n",
    "len(train_data)"
   ],
   "id": "b1358d5fd4e2a9bf",
   "outputs": [
    {
     "name": "stdout",
     "output_type": "stream",
     "text": [
      "[2025-09-22 11:12:14,294: INFO: common: yaml file: config\\config.yaml loaded successfully]\n",
      "[2025-09-22 11:12:14,297: INFO: common: yaml file: params.yaml loaded successfully]\n",
      "[2025-09-22 11:12:14,298: INFO: common: created directory at: artifacts]\n",
      "[2025-09-22 11:12:14,299: INFO: common: created directory at: artifacts/training]\n"
     ]
    },
    {
     "data": {
      "text/plain": [
       "775"
      ]
     },
     "execution_count": 23,
     "metadata": {},
     "output_type": "execute_result"
    }
   ],
   "execution_count": 23
  },
  {
   "metadata": {
    "ExecuteTime": {
     "end_time": "2025-09-22T09:15:27.764220Z",
     "start_time": "2025-09-22T09:15:27.758734Z"
    }
   },
   "cell_type": "code",
   "source": [
    "from torch.nn.utils.rnn import pack_padded_sequence\n",
    "def pack_collate(batch: list[tuple[torch.tensor, int]]) -> dict[str, any]:\n",
    "    \"\"\"\n",
    "    Collate function sử dụng torch.nn.utils.rnn.pack_padded_sequence.\n",
    "    - pose: (T,K,3) với T có thể khác nhau\n",
    "    - Trả về PackedSequence để dùng cho RNN.\n",
    "\n",
    "    Returns:\n",
    "      packed: PackedSequence chứa (T, K*3)\n",
    "      lengths: chiều dài thực tế từng sample\n",
    "      labels: (B,)\n",
    "    \"\"\"\n",
    "    poses, labels = zip(*batch)\n",
    "    lengths = torch.tensor([p.shape[0] for p in poses], dtype=torch.long)\n",
    "    K = poses[0].shape[1]\n",
    "\n",
    "    # Flatten (T,K,3) -> (T, K*3)\n",
    "    flat_poses = [p.reshape(p.shape[0], K*3) for p in poses]\n",
    "    padded = torch.nn.utils.rnn.pad_sequence(flat_poses, batch_first=True)\n",
    "\n",
    "    packed = pack_padded_sequence(padded, lengths, batch_first=True, enforce_sorted=False)\n",
    "    labels_t = torch.tensor(labels, dtype=torch.long)\n",
    "    return {\"packed\": packed, \"lengths\": lengths, \"labels\": labels_t}"
   ],
   "id": "5da00f59611977fd",
   "outputs": [],
   "execution_count": 42
  },
  {
   "metadata": {
    "ExecuteTime": {
     "end_time": "2025-09-22T09:16:58.329024Z",
     "start_time": "2025-09-22T09:16:58.325513Z"
    }
   },
   "cell_type": "code",
   "source": "train_loader = DataLoader(train_data, batch_size=train_config.params_batch_size, collate_fn=pack_collate, shuffle=True)",
   "id": "5624e5b8cbda380d",
   "outputs": [],
   "execution_count": 47
  }
 ],
 "metadata": {
  "kernelspec": {
   "display_name": "Python 3",
   "language": "python",
   "name": "python3"
  },
  "language_info": {
   "codemirror_mode": {
    "name": "ipython",
    "version": 2
   },
   "file_extension": ".py",
   "mimetype": "text/x-python",
   "name": "python",
   "nbconvert_exporter": "python",
   "pygments_lexer": "ipython2",
   "version": "2.7.6"
  }
 },
 "nbformat": 4,
 "nbformat_minor": 5
}
