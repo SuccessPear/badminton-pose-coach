{
 "cells": [
  {
   "cell_type": "code",
   "id": "initial_id",
   "metadata": {
    "collapsed": true,
    "ExecuteTime": {
     "end_time": "2025-09-18T13:56:50.598173Z",
     "start_time": "2025-09-18T13:56:50.586172Z"
    }
   },
   "source": [
    "import os\n",
    "os.chdir(\"../\")\n",
    "%pwd"
   ],
   "outputs": [
    {
     "data": {
      "text/plain": [
       "'C:\\\\Users\\\\Legion\\\\OneDrive\\\\Desktop\\\\Paris-Saclay\\\\Learning\\\\AI\\\\badminton-pose-coach'"
      ]
     },
     "execution_count": 1,
     "metadata": {},
     "output_type": "execute_result"
    }
   ],
   "execution_count": 1
  },
  {
   "metadata": {
    "ExecuteTime": {
     "end_time": "2025-09-18T15:39:37.016051Z",
     "start_time": "2025-09-18T15:39:37.011062Z"
    }
   },
   "cell_type": "code",
   "source": [
    "from dataclasses import dataclass\n",
    "from pathlib import Path\n",
    "\n",
    "@dataclass(frozen=True)  # you cant add another element here because frozen = True\n",
    "class PrepareBaseModelConfig:\n",
    "    root_dir: Path\n",
    "    updated_base_model_path: Path\n",
    "    params_model_name: float\n",
    "\n",
    "@dataclass(frozen=True)\n",
    "class ModelConfig:\n",
    "    params_model_name: float\n",
    "    params_num_classes: int\n",
    "    params_hidden: int\n",
    "    params_layers: int\n",
    "    params_dropout: int\n",
    "    params_num_joints: int\n",
    "    params_channel: int\n",
    "    params_bidirectional: bool"
   ],
   "id": "2dffbac5b405c3b6",
   "outputs": [],
   "execution_count": 21
  },
  {
   "metadata": {
    "ExecuteTime": {
     "end_time": "2025-09-18T15:39:37.159380Z",
     "start_time": "2025-09-18T15:39:37.156161Z"
    }
   },
   "cell_type": "code",
   "source": [
    "from badmintonPoseCoach.constants import *\n",
    "from badmintonPoseCoach.utils.common import read_yaml, create_directories"
   ],
   "id": "28327b7e82c0a942",
   "outputs": [],
   "execution_count": 22
  },
  {
   "metadata": {
    "ExecuteTime": {
     "end_time": "2025-09-18T16:44:05.003054Z",
     "start_time": "2025-09-18T16:44:04.997846Z"
    }
   },
   "cell_type": "code",
   "source": [
    "class ConfigurationManager:\n",
    "    def __init__(\n",
    "        self,\n",
    "        config_filepath = CONFIG_FILE_PATH,\n",
    "        params_filepath = PARAMS_FILE_PATH):\n",
    "\n",
    "        self.config = read_yaml(config_filepath)\n",
    "        self.params = read_yaml(params_filepath)\n",
    "\n",
    "        create_directories([self.config.artifacts_root])\n",
    "\n",
    "    def get_prepare_base_model_config(self) -> PrepareBaseModelConfig:\n",
    "        config = self.config.prepare_base_model\n",
    "        params = self.params.prepare_base_model\n",
    "\n",
    "        create_directories([config.root_dir])\n",
    "\n",
    "        prepare_base_model_config = PrepareBaseModelConfig(\n",
    "            root_dir=Path(config.root_dir),\n",
    "            updated_base_model_path=Path(config.updated_base_model_path),\n",
    "            params_model_name=params.model_name,\n",
    "        )\n",
    "        return prepare_base_model_config\n",
    "\n",
    "    def get_model_config(self) -> ModelConfig:\n",
    "        params = None\n",
    "        if self.params.prepare_base_model.model_name == \"gru\":\n",
    "            params = self.params.prepare_base_model.gru\n",
    "        model_config = ModelConfig(\n",
    "            params_hidden=params.hidden,\n",
    "            params_model_name=params.model_name,\n",
    "            params_num_classes=params.num_classes,\n",
    "            params_layers=params.layers,\n",
    "            params_dropout=params.dropout,\n",
    "            params_num_joints=params.num_joints,\n",
    "            params_channel=params.channel,\n",
    "            params_bidirectional=params.bidirectional,\n",
    "        )\n",
    "        return model_config\n"
   ],
   "id": "292d61b51e4880ec",
   "outputs": [],
   "execution_count": 66
  },
  {
   "metadata": {
    "ExecuteTime": {
     "end_time": "2025-09-18T16:44:05.153267Z",
     "start_time": "2025-09-18T16:44:05.149883Z"
    }
   },
   "cell_type": "code",
   "source": [
    "import os\n",
    "from pathlib import Path\n",
    "import torch.nn as nn\n"
   ],
   "id": "89a7e4633238c932",
   "outputs": [],
   "execution_count": 67
  },
  {
   "metadata": {
    "ExecuteTime": {
     "end_time": "2025-09-18T16:44:05.297016Z",
     "start_time": "2025-09-18T16:44:05.294984Z"
    }
   },
   "cell_type": "code",
   "source": "",
   "id": "146d28a11e074ecf",
   "outputs": [],
   "execution_count": null
  },
  {
   "metadata": {
    "ExecuteTime": {
     "end_time": "2025-09-18T16:46:13.283764Z",
     "start_time": "2025-09-18T16:46:13.278670Z"
    }
   },
   "cell_type": "code",
   "source": [
    "class GRUModel(nn.Module):\n",
    "    def __init__(self, config: ModelConfig):\n",
    "        super().__init__()\n",
    "        self.config = config\n",
    "\n",
    "        self.gru = nn.GRU(\n",
    "                    input_size=self.config.params_hidden * self.config.params_layers,\n",
    "                    hidden_size=self.config.params_hidden,\n",
    "                    num_layers=self.config.params_layers,\n",
    "                    dropout=self.config.params_dropout,\n",
    "                    batch_first=True,\n",
    "                    bidirectional=self.config.params_bidirectional,\n",
    "                ),\n",
    "        self.fc = nn.Linear(self.config.params_hidden * (2 if self.config.params_bidirectional else 1), self.config.params_num_classes)\n",
    "    def forward(self, x):\n",
    "        # x: [B,T,C,J] -> [B,T,C*J]\n",
    "        B,T,C,J = x.shape\n",
    "        x = x.reshape(B,T,C*J)\n",
    "        out,_ = self.gru(x)\n",
    "        last = out[:,-1,:]\n",
    "        return self.fc(last)"
   ],
   "id": "63d3a385fbc9f61",
   "outputs": [],
   "execution_count": 71
  },
  {
   "metadata": {
    "ExecuteTime": {
     "end_time": "2025-09-18T16:46:13.411897Z",
     "start_time": "2025-09-18T16:46:13.406661Z"
    }
   },
   "cell_type": "code",
   "source": [
    "import torch\n",
    "class PrepareBaseModel:\n",
    "    def __init__(self, prepare_base_model_config: PrepareBaseModelConfig, model_config: ModelConfig):\n",
    "        self.model = None\n",
    "        self.prepare_base_model_config = prepare_base_model_config\n",
    "        self.model_config = model_config\n",
    "\n",
    "    def get_base_model(self):\n",
    "        if self.prepare_base_model_config.params_model_name == \"gru\":\n",
    "            self.model = GRUModel(config=self.model_config)\n",
    "            self.save_model(self.prepare_base_model_config.updated_base_model_path, self.model)\n",
    "        return self.model\n",
    "\n",
    "    @staticmethod\n",
    "    def save_model(path, model):\n",
    "        torch.save(model.state_dict(), path)"
   ],
   "id": "dfeb61c2fa344c3a",
   "outputs": [],
   "execution_count": 72
  },
  {
   "metadata": {
    "ExecuteTime": {
     "end_time": "2025-09-18T16:46:26.807401Z",
     "start_time": "2025-09-18T16:46:26.790902Z"
    }
   },
   "cell_type": "code",
   "source": [
    "try:\n",
    "    config = ConfigurationManager()\n",
    "    prepare_base_model_config = config.get_prepare_base_model_config()\n",
    "    model_config = config.get_model_config()\n",
    "    prepare_base_model = PrepareBaseModel(prepare_base_model_config, model_config)\n",
    "    prepare_base_model.get_base_model()\n",
    "except Exception as e:\n",
    "    raise e"
   ],
   "id": "d894d64ff62ff5ef",
   "outputs": [
    {
     "name": "stdout",
     "output_type": "stream",
     "text": [
      "[2025-09-18 18:46:26,794: INFO: common: yaml file: config\\config.yaml loaded successfully]\n",
      "[2025-09-18 18:46:26,799: INFO: common: yaml file: params.yaml loaded successfully]\n",
      "[2025-09-18 18:46:26,801: INFO: common: created directory at: artifacts]\n",
      "[2025-09-18 18:46:26,802: INFO: common: created directory at: artifacts/prepare_base_model]\n"
     ]
    }
   ],
   "execution_count": 74
  },
  {
   "metadata": {
    "ExecuteTime": {
     "end_time": "2025-09-18T16:46:13.772753Z",
     "start_time": "2025-09-18T16:46:13.770354Z"
    }
   },
   "cell_type": "code",
   "source": "",
   "id": "34d8acceb4609a7",
   "outputs": [],
   "execution_count": null
  },
  {
   "metadata": {},
   "cell_type": "code",
   "outputs": [],
   "execution_count": null,
   "source": "",
   "id": "497bb3ac6f25a62a"
  }
 ],
 "metadata": {
  "kernelspec": {
   "display_name": "Python 3",
   "language": "python",
   "name": "python3"
  },
  "language_info": {
   "codemirror_mode": {
    "name": "ipython",
    "version": 2
   },
   "file_extension": ".py",
   "mimetype": "text/x-python",
   "name": "python",
   "nbconvert_exporter": "python",
   "pygments_lexer": "ipython2",
   "version": "2.7.6"
  }
 },
 "nbformat": 4,
 "nbformat_minor": 5
}
